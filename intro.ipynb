{
 "cells": [
  {
   "cell_type": "markdown",
   "metadata": {},
   "source": [
    "# Natural Language Processing\n"
   ]
  },
  {
   "cell_type": "markdown",
   "metadata": {},
   "source": [
    "## Created by Anggun Prasanti\n",
    "\n",
    "Data enthusiast\n",
    "M.Cs Student\n"
   ]
  },
  {
   "cell_type": "markdown",
   "metadata": {},
   "source": [
    "### Introduction\n",
    "\n",
    "Natural Language Processing (NLP) refers to the branch of computer science—and more specifically, the branch of artificial intelligence or AI—concerned with giving computers the ability to understand text and spoken words in much the same way human beings can.\n",
    "NLP combines computational linguistics—rule-based modeling of human language—with statistical, machine learning, and deep learning models. Together, these technologies enable computers to process human language."
   ]
  },
  {
   "cell_type": "markdown",
   "metadata": {},
   "source": [
    "### NLP Task\n",
    "\n",
    "- **Tokenization** (splitting a phrase, sentence, paragraph, or an entire text document into smaller units, such as individual words or terms. Each of these smaller units are called tokens.\n",
    "- **Normalisasi**  (Case, Stopwords, Lemmatisasi, Stemming, etc)\n",
    "- **Part of Speech Tagging**\n",
    "- **Named Entity Recognition**\n",
    "- **Parsing**  (grammar tree) \n",
    "- **Topic Modelling** (LSA, LDA, etc.)\n",
    "- **Summarization**, **sentiment analysis**, **clustering**, etc\n"
   ]
  },
  {
   "cell_type": "markdown",
   "metadata": {},
   "source": [
    "### List of work\n",
    "\n",
    "- Text Preprocessing\n",
    "- Information Extraction : NLP (Language model) & Clustering\n",
    "- Machine Learning Applications: Classification, Sentiment Analysis, word embedding\n",
    "- Data Summarization: Topic Modelling, TextRank\n",
    "- Recommendation Model\n",
    "- Text Visualizations"
   ]
  }
 ],
 "metadata": {
  "kernelspec": {
   "display_name": "Python 3",
   "language": "python",
   "name": "python3"
  },
  "language_info": {
   "codemirror_mode": {
    "name": "ipython",
    "version": 3
   },
   "file_extension": ".py",
   "mimetype": "text/x-python",
   "name": "python",
   "nbconvert_exporter": "python",
   "pygments_lexer": "ipython3",
   "version": "3.7.4"
  }
 },
 "nbformat": 4,
 "nbformat_minor": 2
}
